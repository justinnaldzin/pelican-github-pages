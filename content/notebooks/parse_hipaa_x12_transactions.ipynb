{
 "cells": [
  {
   "cell_type": "markdown",
   "metadata": {
    "collapsed": true,
    "deletable": true,
    "editable": true
   },
   "source": [
    "# Parse HIPAA X12 transactions"
   ]
  },
  {
   "cell_type": "markdown",
   "metadata": {
    "deletable": true,
    "editable": true
   },
   "source": [
    "## Dependencies\n",
    "\n",
    "#### Install Pyx12\n",
    "\n",
    "Pyx12 is a HIPAA X12 document validator and converter.\n",
    "```sh\n",
    "sudo pip3 install git+https://github.com/azoner/pyx12@py3-fix-scripts\n",
    "```\n",
    "\n",
    "Place X12 documents within the data directory:\n",
    "```\n",
    "hipaa_x12_documents/\n",
    "```"
   ]
  },
  {
   "cell_type": "markdown",
   "metadata": {
    "deletable": true,
    "editable": true
   },
   "source": [
    "### Create a list of all txt files in the data directory"
   ]
  },
  {
   "cell_type": "code",
   "execution_count": 1,
   "metadata": {
    "collapsed": false,
    "deletable": true,
    "editable": true
   },
   "outputs": [
    {
     "name": "stdout",
     "output_type": "stream",
     "text": [
      "Searching for all .txt files in: ../hipaa_x12_documents\n",
      "Found the following files:  \n",
      "../hipaa_x12_documents/ibc772232201701310207.txt\n",
      "../hipaa_x12_documents/ibc774240201702030124.txt\n"
     ]
    }
   ],
   "source": [
    "import os\n",
    "import subprocess\n",
    "\n",
    "\n",
    "data_path = '../hipaa_x12_documents'\n",
    "\n",
    "\n",
    "if os.path.isdir(data_path):\n",
    "    print(\"Searching for all .txt files in: \" + data_path)\n",
    "    data_filepath_list = [os.path.join(data_path, filename) for filename in os.listdir(data_path) if filename.endswith(\".txt\")]\n",
    "    if data_filepath_list:\n",
    "        print('Found the following files:  ')\n",
    "        for filename in data_filepath_list:\n",
    "               print(filename)\n",
    "    else:\n",
    "        print(\"No data files found in path:  \" + data_path) \n",
    "else:\n",
    "    print(\"No such directory:  \" + data_path)"
   ]
  },
  {
   "cell_type": "markdown",
   "metadata": {
    "deletable": true,
    "editable": true
   },
   "source": [
    "### Convert to HTML and XML (optional)"
   ]
  },
  {
   "cell_type": "code",
   "execution_count": 2,
   "metadata": {
    "collapsed": false,
    "deletable": true,
    "editable": true
   },
   "outputs": [
    {
     "name": "stdout",
     "output_type": "stream",
     "text": [
      "Creating HTML from: ../hipaa_x12_documents/ibc772232201701310207.txt\n",
      "Executing command: x12html ../hipaa_x12_documents/ibc772232201701310207.txt > ../hipaa_x12_documents/ibc772232201701310207.html\n",
      "Creating XML from: ../hipaa_x12_documents/ibc772232201701310207.txt\n",
      "Executing command: x12xml ../hipaa_x12_documents/ibc772232201701310207.txt > ../hipaa_x12_documents/ibc772232201701310207.xml\n",
      "Creating HTML from: ../hipaa_x12_documents/ibc774240201702030124.txt\n",
      "Executing command: x12html ../hipaa_x12_documents/ibc774240201702030124.txt > ../hipaa_x12_documents/ibc774240201702030124.html\n",
      "Creating XML from: ../hipaa_x12_documents/ibc774240201702030124.txt\n",
      "Executing command: x12xml ../hipaa_x12_documents/ibc774240201702030124.txt > ../hipaa_x12_documents/ibc774240201702030124.xml\n"
     ]
    }
   ],
   "source": [
    "for file in data_filepath_list:\n",
    "    print(\"Creating HTML from: \" + file)\n",
    "    basename = os.path.splitext(os.path.basename(file))[0]\n",
    "    cmd = 'x12html ' + file + ' > ' + os.path.join(data_path, basename) + '.html'\n",
    "    print(\"Executing command: \" + cmd)\n",
    "    subprocess.call(cmd, shell=True)\n",
    "\n",
    "    print(\"Creating XML from: \" + file)\n",
    "    basename = os.path.splitext(os.path.basename(file))[0]\n",
    "    cmd = 'x12xml ' + file + ' > ' + os.path.join(data_path, basename) + '.xml'\n",
    "    print(\"Executing command: \" + cmd)\n",
    "    subprocess.call(cmd, shell=True)"
   ]
  },
  {
   "cell_type": "markdown",
   "metadata": {
    "deletable": true,
    "editable": true
   },
   "source": [
    "### Parse X12 documents and create separate CSV files"
   ]
  },
  {
   "cell_type": "code",
   "execution_count": 3,
   "metadata": {
    "collapsed": false,
    "deletable": true,
    "editable": true
   },
   "outputs": [
    {
     "name": "stdout",
     "output_type": "stream",
     "text": [
      "Opening: ../hipaa_x12_documents/ibc774240201702030124.txt\n",
      "Writing CSV: ../hipaa_x12_documents/ibc772232201701310207.csv\n",
      "Opening: ../hipaa_x12_documents/ibc774240201702030124.txt\n",
      "Writing CSV: ../hipaa_x12_documents/ibc774240201702030124.csv\n"
     ]
    }
   ],
   "source": [
    "import pandas\n",
    "import pyx12\n",
    "import pyx12.x12context\n",
    "import pyx12.params\n",
    "\n",
    "\n",
    "claim_dict = {}\n",
    "claim_dataframe = pandas.DataFrame()\n",
    "\n",
    "\n",
    "for x12_file in data_filepath_list:\n",
    "    print(\"Opening: \" + file)\n",
    "    basename = os.path.splitext(os.path.basename(x12_file))[0]\n",
    "    csv_filepath = os.path.join(data_path, basename) + '.csv'\n",
    "    with open(x12_file) as f:\n",
    "        param = pyx12.params.params()\n",
    "        errh = pyx12.error_handler.errh_null()\n",
    "        src = pyx12.x12context.X12ContextReader(param, errh, f)\n",
    "        for datatree in src.iter_segments('2000C'):\n",
    "            for loop in datatree.select('2010CA'):\n",
    "                claim_dict['last_name'] = loop.get_value('NM103')\n",
    "                claim_dict['first_name'] = loop.get_value('NM104')\n",
    "                claim_dict['middle_name'] = loop.get_value('NM105')\n",
    "                claim_dict['unknown'] = loop.get_value('NM106')\n",
    "                claim_dict['suffix_name'] = loop.get_value('NM107')\n",
    "                #for loop in datatree.select('DMG'):\n",
    "                claim_dict['birth_date'] = loop.get_value('DMG02')\n",
    "            for loop in datatree.select('2300'):\n",
    "                claim_dict['invoice'] = loop.get_value('CLM01')\n",
    "                claim_dict['mrn'] = loop.get_value('REF02')\n",
    "                claim_dataframe = claim_dataframe.append(claim_dict, ignore_index=True)\n",
    "    print(\"Writing CSV: \" + csv_filepath)\n",
    "    claim_dataframe.to_csv(csv_filepath, index=False, mode='w', header=True)"
   ]
  }
 ],
 "metadata": {
  "kernelspec": {
   "display_name": "Python 3",
   "language": "python",
   "name": "python3"
  },
  "language_info": {
   "codemirror_mode": {
    "name": "ipython",
    "version": 3
   },
   "file_extension": ".py",
   "mimetype": "text/x-python",
   "name": "python",
   "nbconvert_exporter": "python",
   "pygments_lexer": "ipython3",
   "version": "3.5.3"
  }
 },
 "nbformat": 4,
 "nbformat_minor": 2
}
