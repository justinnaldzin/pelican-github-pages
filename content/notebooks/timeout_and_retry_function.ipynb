{
 "cells": [
  {
   "cell_type": "markdown",
   "metadata": {},
   "source": [
    "# Timeout & retry functions in Python"
   ]
  },
  {
   "cell_type": "markdown",
   "metadata": {},
   "source": [
    "#### The following are implementations on how to specify timeouts on functions that run for too long.  Additionally by using the ```retrying``` library, we are able to retry the function a specific number of times."
   ]
  },
  {
   "cell_type": "markdown",
   "metadata": {},
   "source": [
    "### 1. signal.SIGALRM\n",
    "\n",
    "Define a ```Timeout``` class that will raise an exception after the containing code does not finish within a specified number of seconds.  Use the ```retry``` decorator to retry the function a specified number of times after the timeout.\n",
    "\n",
    "<div class=\"alert alert-danger\">\n",
    "  <strong>Note!</strong> You cannot use SIGALRM within multi-threaded applications (only in the main thread) and SIGARLM is only supported on Unix platforms.  This is NOT a recommended approach.\n",
    "</div>"
   ]
  },
  {
   "cell_type": "code",
   "execution_count": 1,
   "metadata": {
    "collapsed": true,
    "deletable": true,
    "editable": true
   },
   "outputs": [],
   "source": [
    "import signal\n",
    "\n",
    "\n",
    "class TimeoutException(Exception):\n",
    "    pass\n",
    "\n",
    "class Timeout:\n",
    "    def __init__(self, seconds=1, error_message='Timeout'):\n",
    "        self.seconds = seconds\n",
    "        self.error_message = error_message\n",
    "        \n",
    "    def handle_timeout(self, signum, frame):\n",
    "        raise TimeoutException(self.error_message)\n",
    "        \n",
    "    def __enter__(self):\n",
    "        signal.signal(signal.SIGALRM, self.handle_timeout)\n",
    "        signal.alarm(self.seconds)\n",
    "        \n",
    "    def __exit__(self, type, value, traceback):\n",
    "        signal.alarm(0)"
   ]
  },
  {
   "cell_type": "code",
   "execution_count": 2,
   "metadata": {
    "collapsed": false,
    "deletable": true,
    "editable": true
   },
   "outputs": [
    {
     "name": "stdout",
     "output_type": "stream",
     "text": [
      "Doing something that takes 5 seconds...\n",
      "Doing something that takes 1 seconds...\n",
      "Doing something that takes 9 seconds...\n",
      "Doing something that takes 3 seconds...\n",
      "Doing something that takes 2 seconds...\n",
      "Doing something that takes 9 seconds...\n",
      "Timeout!\n"
     ]
    }
   ],
   "source": [
    "import time\n",
    "from random import randint\n",
    "from retrying import retry\n",
    "\n",
    "\n",
    "@retry(stop_max_attempt_number=6)  # stop after 6 attempts\n",
    "def long_running_function():\n",
    "    with Timeout(seconds=1):\n",
    "        sleep_time = randint(0,9)\n",
    "        print(\"Doing something that takes \" + str(sleep_time) + \" seconds...\")\n",
    "        time.sleep(sleep_time)\n",
    "        print(\"Finished!\")\n",
    "\n",
    "\n",
    "try:\n",
    "    long_running_function()\n",
    "except TimeoutException:\n",
    "    print(\"Timeout!\")"
   ]
  },
  {
   "cell_type": "markdown",
   "metadata": {},
   "source": [
    "### 2. threading\n",
    "\n",
    "By defining a ```timelimit``` decorator, we create a threading subclass that runs a function and raises a ```TimeoutException``` exception if it excedes the time limit specified in ```timeout```.\n",
    "\n",
    "<div class=\"alert alert-danger\">\n",
    "  <strong>Note!</strong> This doesn't actually stop the function after the timeout. It leaves it running in a separate thread, still consuming resources.  This is NOT a recommended approach.\n",
    "</div>"
   ]
  },
  {
   "cell_type": "code",
   "execution_count": 3,
   "metadata": {
    "collapsed": false
   },
   "outputs": [],
   "source": [
    "import sys\n",
    "\n",
    "\n",
    "class TimeoutException(Exception):\n",
    "    pass\n",
    "\n",
    "def timelimit(timeout):\n",
    "    \"\"\"\n",
    "    Run function with the given timeout. If function doesn't finish within the timeout, raise TimeoutException\n",
    "    \"\"\"\n",
    "    def internal(function):\n",
    "        def internal2(*args, **kw):\n",
    "            import threading\n",
    "            class FuncThread(threading.Thread):\n",
    "                def __init__(self):\n",
    "                    threading.Thread.__init__(self)\n",
    "                    self.result = None\n",
    "                    self.error = None\n",
    "                \n",
    "                def run(self):\n",
    "                    try:\n",
    "                        self.result = function(*args, **kw)\n",
    "                    except:\n",
    "                        self.error = sys.exc_info()[0]\n",
    "            c = FuncThread()\n",
    "            c.start()\n",
    "            c.join(timeout)\n",
    "            if c.isAlive():\n",
    "                #c._stop()  # mark the thread as stopped; raises AssertionError in newer versions of Python\n",
    "                raise TimeoutException\n",
    "            if c.error:\n",
    "                raise c.error\n",
    "            return c.result\n",
    "        return internal2\n",
    "    return internal"
   ]
  },
  {
   "cell_type": "code",
   "execution_count": 4,
   "metadata": {
    "collapsed": false
   },
   "outputs": [
    {
     "name": "stdout",
     "output_type": "stream",
     "text": [
      "Doing something that takes 3 seconds...\n",
      "Doing something that takes 8 seconds...\n",
      "Doing something that takes 9 seconds...\n",
      "Finished!\n",
      "Doing something that takes 3 seconds...\n",
      "Doing something that takes 8 seconds...\n",
      "Doing something that takes 2 seconds...\n",
      "Finished!\n",
      "Timeout!\n",
      "Finished!\n",
      "Finished!\n",
      "Finished!\n",
      "Finished!\n"
     ]
    }
   ],
   "source": [
    "import time\n",
    "from random import randint\n",
    "from retrying import retry\n",
    "\n",
    "\n",
    "@retry(stop_max_attempt_number=6)  # stop after 6 attempts\n",
    "@timelimit(1)  \n",
    "def long_running_function():\n",
    "        sleep_time = randint(0,9)\n",
    "        print(\"Doing something that takes \" + str(sleep_time) + \" seconds...\")\n",
    "        time.sleep(sleep_time)\n",
    "        print(\"Finished!\")\n",
    "\n",
    "        \n",
    "try:\n",
    "    long_running_function()\n",
    "except TimeoutException:\n",
    "    print(\"Timeout!\")"
   ]
  },
  {
   "cell_type": "markdown",
   "metadata": {},
   "source": [
    "### 3. multiprocessing.Process"
   ]
  },
  {
   "cell_type": "markdown",
   "metadata": {},
   "source": [
    "This uses ```multiprocessing.Process``` to run a wrapped function in a separate process, store the result in a queue, and terminate the process if it reaches the timeout.\n",
    "\n",
    "<div class=\"alert alert-warning\">\n",
    "  <strong>Note!</strong> Process creation is based on the fork system call which creates a copy of the whole environment.  This uses a lot of memory and takes a considerable amount of time.  For smaller applications, this is OK.  But for large applications, this is NOT a recommended approach.\n",
    "</div>"
   ]
  },
  {
   "cell_type": "code",
   "execution_count": 5,
   "metadata": {
    "collapsed": false
   },
   "outputs": [],
   "source": [
    "from functools import wraps\n",
    "from multiprocessing import Process, Queue\n",
    " \n",
    "class TimeoutException(Exception):\n",
    "    pass\n",
    " \n",
    "def timelimit(timeout):\n",
    "    def wrap_function(func):\n",
    "        @wraps(func)\n",
    "        def __wrapper(*args, **kwargs):\n",
    "            def queue_wrapper(args, kwargs):\n",
    "                q.put(func(*args, **kwargs))\n",
    " \n",
    "            q = Queue()\n",
    "            p = Process(target=queue_wrapper, args=(args, kwargs))\n",
    "            p.start()\n",
    "            p.join(timeout)\n",
    "            if p.is_alive():\n",
    "                p.terminate()\n",
    "                p.join()\n",
    "                raise TimeoutException()\n",
    "            p.terminate()\n",
    "            return q.get()\n",
    "        return __wrapper\n",
    "    return wrap_function"
   ]
  },
  {
   "cell_type": "code",
   "execution_count": 6,
   "metadata": {
    "collapsed": false
   },
   "outputs": [
    {
     "name": "stdout",
     "output_type": "stream",
     "text": [
      "Doing something that takes 7 seconds...\n",
      "Doing something that takes 3 seconds...\n",
      "Doing something that takes 4 seconds...\n",
      "Doing something that takes 1 seconds...\n",
      "Doing something that takes 6 seconds...\n",
      "Doing something that takes 3 seconds...\n",
      "Timeout!\n"
     ]
    }
   ],
   "source": [
    "import time\n",
    "from random import randint\n",
    "from retrying import retry\n",
    "\n",
    "\n",
    "@retry(stop_max_attempt_number=6)  # stop after 6 attempts\n",
    "@timelimit(1)  \n",
    "def long_running_function():\n",
    "        sleep_time = randint(0,9)\n",
    "        print(\"Doing something that takes \" + str(sleep_time) + \" seconds...\")\n",
    "        time.sleep(sleep_time)\n",
    "        print(\"Finished!\")\n",
    "\n",
    "        \n",
    "try:\n",
    "    long_running_function()\n",
    "except TimeoutException:\n",
    "    print(\"Timeout!\")"
   ]
  },
  {
   "cell_type": "markdown",
   "metadata": {},
   "source": [
    "### 4. multiprocessing.Pool"
   ]
  },
  {
   "cell_type": "markdown",
   "metadata": {},
   "source": [
    "```multiprocessing.Pool``` manages the number of processes as well as job collection.\n",
    "\n",
    "<div class=\"alert alert-warning\">\n",
    "  <strong>Note!</strong> This is the same approach as above.  We don't gain anything except the ability to create multiple processes.\n",
    "</div>"
   ]
  },
  {
   "cell_type": "code",
   "execution_count": 7,
   "metadata": {
    "collapsed": false
   },
   "outputs": [
    {
     "name": "stdout",
     "output_type": "stream",
     "text": [
      "Doing something that takes 8 seconds...\n",
      "Timeout!\n",
      "Doing something that takes 1 seconds...\n",
      "Timeout!\n",
      "Doing something that takes 3 seconds...\n",
      "Timeout!\n",
      "Doing something that takes 9 seconds...\n",
      "Timeout!\n",
      "Doing something that takes 3 seconds...\n",
      "Timeout!\n",
      "Doing something that takes 1 seconds...\n",
      "Timeout!\n",
      "Timeout!\n"
     ]
    }
   ],
   "source": [
    "import time\n",
    "from random import randint\n",
    "from retrying import retry\n",
    "\n",
    "\n",
    "def long_running_function():\n",
    "    sleep_time = randint(0,9)\n",
    "    print(\"Doing something that takes \" + str(sleep_time) + \" seconds...\")\n",
    "    time.sleep(sleep_time)\n",
    "    print(\"Finished!\")\n",
    "\n",
    "\n",
    "import multiprocessing\n",
    "\n",
    "@retry(stop_max_attempt_number=6)  # stop after 6 attempts\n",
    "def function():\n",
    "    pool = multiprocessing.Pool(1, maxtasksperchild=1)\n",
    "    result = pool.apply_async(long_running_function)\n",
    "    pool.close()\n",
    "\n",
    "    try:\n",
    "        s = result.get(1)\n",
    "        print(s)\n",
    "    except multiprocessing.TimeoutError:\n",
    "        pool.terminate()\n",
    "        print(\"Timeout!\")\n",
    "        raise TimeoutError\n",
    "\n",
    "try:\n",
    "    function()\n",
    "except TimeoutError:\n",
    "    print(\"Timeout!\")"
   ]
  },
  {
   "cell_type": "markdown",
   "metadata": {},
   "source": [
    "### 5. Pebble library"
   ]
  },
  {
   "cell_type": "markdown",
   "metadata": {},
   "source": [
    "The ```Pebble``` library is a wrapper of the built-in ```multiprocessing``` library and is the best implementation for handling timeouts in functions.\n",
    "\n",
    "<div class=\"alert alert-success\">\n",
    "  <strong>Note!</strong> While this requires a third-party library, this is the recommended approach.\n",
    "</div>"
   ]
  },
  {
   "cell_type": "code",
   "execution_count": 10,
   "metadata": {
    "collapsed": false
   },
   "outputs": [
    {
     "name": "stdout",
     "output_type": "stream",
     "text": [
      "Doing something that takes 3 seconds...\n",
      "Doing something that takes 5 seconds...\n",
      "Doing something that takes 2 seconds...\n",
      "Doing something that takes 3 seconds...\n",
      "Doing something that takes 4 seconds...\n",
      "Doing something that takes 9 seconds...\n",
      "Timeout! ('Task Timeout', 1)\n"
     ]
    }
   ],
   "source": [
    "import time\n",
    "from random import randint\n",
    "from retrying import retry\n",
    "from pebble import concurrent\n",
    "\n",
    "\n",
    "class TimeoutException(Exception):\n",
    "    pass\n",
    "\n",
    "@concurrent.process(timeout=1)\n",
    "def long_running_function():\n",
    "        sleep_time = randint(0,9)\n",
    "        print(\"Doing something that takes \" + str(sleep_time) + \" seconds...\")\n",
    "        time.sleep(sleep_time)\n",
    "        print(\"Finished!\")\n",
    "\n",
    "\n",
    "@retry(stop_max_attempt_number=6)  # stop after 6 attempts\n",
    "def function():\n",
    "    result = long_running_function().result()  # blocks until results are ready\n",
    "\n",
    "\n",
    "try:\n",
    "    function()\n",
    "except Exception as error:\n",
    "    print(\"Timeout! %s\" % error)"
   ]
  },
  {
   "cell_type": "code",
   "execution_count": null,
   "metadata": {
    "collapsed": true
   },
   "outputs": [],
   "source": []
  }
 ],
 "metadata": {
  "kernelspec": {
   "display_name": "Python 3",
   "language": "python",
   "name": "python3"
  },
  "language_info": {
   "codemirror_mode": {
    "name": "ipython",
    "version": 3
   },
   "file_extension": ".py",
   "mimetype": "text/x-python",
   "name": "python",
   "nbconvert_exporter": "python",
   "pygments_lexer": "ipython3",
   "version": "3.5.3"
  }
 },
 "nbformat": 4,
 "nbformat_minor": 2
}
